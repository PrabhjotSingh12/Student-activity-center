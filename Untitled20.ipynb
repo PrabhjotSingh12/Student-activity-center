{
  "nbformat": 4,
  "nbformat_minor": 0,
  "metadata": {
    "colab": {
      "name": "Untitled20.ipynb",
      "provenance": [],
      "collapsed_sections": [],
      "mount_file_id": "1gK8L3v-yvKATgH7ovqLOYeu7gAP1dtVD",
      "authorship_tag": "ABX9TyMBx+UBQSLI4uCtWJAb4OOb",
      "include_colab_link": true
    },
    "kernelspec": {
      "name": "python3",
      "display_name": "Python 3"
    },
    "language_info": {
      "name": "python"
    }
  },
  "cells": [
    {
      "cell_type": "markdown",
      "metadata": {
        "id": "view-in-github",
        "colab_type": "text"
      },
      "source": [
        "<a href=\"https://colab.research.google.com/github/PrabhjotSingh12/Student-activity-center/blob/main/Untitled20.ipynb\" target=\"_parent\"><img src=\"https://colab.research.google.com/assets/colab-badge.svg\" alt=\"Open In Colab\"/></a>"
      ]
    },
    {
      "cell_type": "code",
      "metadata": {
        "id": "6iaiR66H4jii"
      },
      "source": [
        "import pandas as pd\n",
        "import numpy as np \n",
        "import math\n",
        "import matplotlib.pyplot as plt"
      ],
      "execution_count": 44,
      "outputs": []
    },
    {
      "cell_type": "code",
      "metadata": {
        "colab": {
          "base_uri": "https://localhost:8080/"
        },
        "id": "6CG13VfR47g4",
        "outputId": "bafeeb1e-16c0-443a-898f-1e5ddfb48ed7"
      },
      "source": [
        "data= pd.read_csv('/content/drive/MyDrive/insurance.csv')\n",
        "print(data)"
      ],
      "execution_count": 45,
      "outputs": [
        {
          "output_type": "stream",
          "text": [
            "    age  bought_insurance\n",
            "0    22                 0\n",
            "1    25                 0\n",
            "2    47                 1\n",
            "3    52                 0\n",
            "4    46                 1\n",
            "5    56                 1\n",
            "6    55                 0\n",
            "7    60                 1\n",
            "8    62                 1\n",
            "9    61                 1\n",
            "10   18                 0\n",
            "11   28                 0\n",
            "12   27                 0\n",
            "13   29                 0\n",
            "14   49                 1\n",
            "15   55                 1\n",
            "16   25                 1\n",
            "17   58                 1\n",
            "18   19                 0\n",
            "19   18                 0\n",
            "20   21                 0\n",
            "21   26                 0\n",
            "22   40                 1\n",
            "23   45                 1\n",
            "24   50                 1\n",
            "25   54                 1\n",
            "26   23                 0\n"
          ],
          "name": "stdout"
        }
      ]
    },
    {
      "cell_type": "code",
      "metadata": {
        "colab": {
          "base_uri": "https://localhost:8080/"
        },
        "id": "tDbChNHS4-nl",
        "outputId": "cace5b27-b153-4c3c-a3b2-fb0a8b2b7ecf"
      },
      "source": [
        "\tx= data.iloc[:, 0:1].values  \n",
        "print(x)\n",
        "\n",
        "\n"
      ],
      "execution_count": 46,
      "outputs": [
        {
          "output_type": "stream",
          "text": [
            "[[22]\n",
            " [25]\n",
            " [47]\n",
            " [52]\n",
            " [46]\n",
            " [56]\n",
            " [55]\n",
            " [60]\n",
            " [62]\n",
            " [61]\n",
            " [18]\n",
            " [28]\n",
            " [27]\n",
            " [29]\n",
            " [49]\n",
            " [55]\n",
            " [25]\n",
            " [58]\n",
            " [19]\n",
            " [18]\n",
            " [21]\n",
            " [26]\n",
            " [40]\n",
            " [45]\n",
            " [50]\n",
            " [54]\n",
            " [23]]\n"
          ],
          "name": "stdout"
        }
      ]
    },
    {
      "cell_type": "code",
      "metadata": {
        "colab": {
          "base_uri": "https://localhost:8080/"
        },
        "id": "Q93QQx_45blD",
        "outputId": "dcbdcb53-ae8f-40f3-fbc1-4749d2321380"
      },
      "source": [
        "y=data.iloc[:, 1].values  \n",
        "print(y)\n",
        "\n"
      ],
      "execution_count": 47,
      "outputs": [
        {
          "output_type": "stream",
          "text": [
            "[0 0 1 0 1 1 0 1 1 1 0 0 0 0 1 1 1 1 0 0 0 0 1 1 1 1 0]\n"
          ],
          "name": "stdout"
        }
      ]
    },
    {
      "cell_type": "code",
      "metadata": {
        "id": "CcNYNoTA5qri"
      },
      "source": [
        "from sklearn.model_selection import train_test_split\n",
        "x_train,x_test,y_train,y_test=train_test_split(x,y,test_size=0.2,random_state=0)\n",
        "from sklearn.linear_model import LogisticRegression\n",
        "model=LogisticRegression()"
      ],
      "execution_count": 48,
      "outputs": []
    },
    {
      "cell_type": "code",
      "metadata": {
        "colab": {
          "base_uri": "https://localhost:8080/"
        },
        "id": "pnz9j6ip82yc",
        "outputId": "477fcabb-dcde-4201-b2bb-78499529290a"
      },
      "source": [
        "print(x_train)"
      ],
      "execution_count": 49,
      "outputs": [
        {
          "output_type": "stream",
          "text": [
            "[[45]\n",
            " [29]\n",
            " [18]\n",
            " [21]\n",
            " [25]\n",
            " [25]\n",
            " [18]\n",
            " [23]\n",
            " [54]\n",
            " [62]\n",
            " [55]\n",
            " [46]\n",
            " [19]\n",
            " [61]\n",
            " [60]\n",
            " [40]\n",
            " [52]\n",
            " [22]\n",
            " [26]\n",
            " [55]\n",
            " [27]]\n"
          ],
          "name": "stdout"
        }
      ]
    },
    {
      "cell_type": "code",
      "metadata": {
        "colab": {
          "base_uri": "https://localhost:8080/"
        },
        "id": "59HSl4lr8YS5",
        "outputId": "998d2df0-d19a-4e9b-a089-e144c98b470c"
      },
      "source": [
        "print(x_test)"
      ],
      "execution_count": 50,
      "outputs": [
        {
          "output_type": "stream",
          "text": [
            "[[47]\n",
            " [50]\n",
            " [49]\n",
            " [58]\n",
            " [56]\n",
            " [28]]\n"
          ],
          "name": "stdout"
        }
      ]
    },
    {
      "cell_type": "code",
      "metadata": {
        "colab": {
          "base_uri": "https://localhost:8080/"
        },
        "id": "z12_rtd_8hqk",
        "outputId": "dd83d3ea-a7d5-4471-e3ad-50d4bf6ef746"
      },
      "source": [
        "print(y_train)"
      ],
      "execution_count": 51,
      "outputs": [
        {
          "output_type": "stream",
          "text": [
            "[1 0 0 0 1 0 0 0 1 1 0 1 0 1 1 1 0 0 0 1 0]\n"
          ],
          "name": "stdout"
        }
      ]
    },
    {
      "cell_type": "code",
      "metadata": {
        "colab": {
          "base_uri": "https://localhost:8080/"
        },
        "id": "rm3jIk6x8k7u",
        "outputId": "840cb46b-e12f-4508-e3e4-6d166d7fe397"
      },
      "source": [
        "print(y_test)"
      ],
      "execution_count": 52,
      "outputs": [
        {
          "output_type": "stream",
          "text": [
            "[1 1 1 1 1 0]\n"
          ],
          "name": "stdout"
        }
      ]
    },
    {
      "cell_type": "code",
      "metadata": {
        "colab": {
          "base_uri": "https://localhost:8080/"
        },
        "id": "M-tOaoPc8shy",
        "outputId": "101acb4f-9f6a-40f9-cc21-bec56bd043e3"
      },
      "source": [
        "model.fit(x_train,y_train)"
      ],
      "execution_count": 53,
      "outputs": [
        {
          "output_type": "execute_result",
          "data": {
            "text/plain": [
              "LogisticRegression(C=1.0, class_weight=None, dual=False, fit_intercept=True,\n",
              "                   intercept_scaling=1, l1_ratio=None, max_iter=100,\n",
              "                   multi_class='auto', n_jobs=None, penalty='l2',\n",
              "                   random_state=None, solver='lbfgs', tol=0.0001, verbose=0,\n",
              "                   warm_start=False)"
            ]
          },
          "metadata": {
            "tags": []
          },
          "execution_count": 53
        }
      ]
    },
    {
      "cell_type": "code",
      "metadata": {
        "colab": {
          "base_uri": "https://localhost:8080/"
        },
        "id": "d6s5i4U49p5l",
        "outputId": "c58dbf33-34bb-4c79-c64e-67da997f499e"
      },
      "source": [
        "y_predict=model.predict(x_test)\n",
        "print(y_predict)"
      ],
      "execution_count": 55,
      "outputs": [
        {
          "output_type": "stream",
          "text": [
            "[1 1 1 1 1 0]\n"
          ],
          "name": "stdout"
        }
      ]
    },
    {
      "cell_type": "code",
      "metadata": {
        "colab": {
          "base_uri": "https://localhost:8080/"
        },
        "id": "7IAXEpNU9UZW",
        "outputId": "ab983ae4-1459-45e7-b864-5f3df6e10fae"
      },
      "source": [
        "from sklearn.metrics import confusion_matrix\n",
        "cm=confusion_matrix(y_predict,y_predict)\n",
        "print(cm)"
      ],
      "execution_count": 57,
      "outputs": [
        {
          "output_type": "stream",
          "text": [
            "[[1 0]\n",
            " [0 5]]\n"
          ],
          "name": "stdout"
        }
      ]
    },
    {
      "cell_type": "code",
      "metadata": {
        "colab": {
          "base_uri": "https://localhost:8080/"
        },
        "id": "bX7Y-jSzCB9M",
        "outputId": "c50d6754-ab57-48fc-8f41-6df9e747d3e1"
      },
      "source": [
        "from sklearn.metrics import accuracy_score\n",
        "asc=accuracy_score(y_test,y_predict)\n",
        "print(asc)"
      ],
      "execution_count": 60,
      "outputs": [
        {
          "output_type": "stream",
          "text": [
            "1.0\n"
          ],
          "name": "stdout"
        }
      ]
    },
    {
      "cell_type": "code",
      "metadata": {
        "colab": {
          "base_uri": "https://localhost:8080/"
        },
        "id": "DhdDB5upCfe0",
        "outputId": "5e6cc082-19a0-4f16-bad3-81ed5f5c436d"
      },
      "source": [
        "m=model.coef_\n",
        "b=model.intercept_\n",
        "print(m)"
      ],
      "execution_count": 61,
      "outputs": [
        {
          "output_type": "stream",
          "text": [
            "[[0.11216016]]\n"
          ],
          "name": "stdout"
        }
      ]
    },
    {
      "cell_type": "code",
      "metadata": {
        "colab": {
          "base_uri": "https://localhost:8080/"
        },
        "id": "pcQAz34_Cyuc",
        "outputId": "0f389746-3662-455a-dd7e-898992109410"
      },
      "source": [
        "print(b)"
      ],
      "execution_count": 62,
      "outputs": [
        {
          "output_type": "stream",
          "text": [
            "[-4.60960684]\n"
          ],
          "name": "stdout"
        }
      ]
    },
    {
      "cell_type": "code",
      "metadata": {
        "id": "tOrct6AsC3FP"
      },
      "source": [
        "def sigmoid(x):\n",
        "             return 1/(1+math.exp(-x))"
      ],
      "execution_count": 64,
      "outputs": []
    },
    {
      "cell_type": "code",
      "metadata": {
        "id": "Ivf_bUVGDRNz"
      },
      "source": [
        "def prediction_function(age):\n",
        "       z=m*age+b\n",
        "       y=sigmoid(z)\n",
        "       return y"
      ],
      "execution_count": 65,
      "outputs": []
    },
    {
      "cell_type": "code",
      "metadata": {
        "colab": {
          "base_uri": "https://localhost:8080/"
        },
        "id": "qkHOaUwWC3K5",
        "outputId": "d8e837b6-00a5-47c8-c87b-f693e0093123"
      },
      "source": [
        "age=45\n",
        "print(prediction_function(age))"
      ],
      "execution_count": 66,
      "outputs": [
        {
          "output_type": "stream",
          "text": [
            "0.6076870521552616\n"
          ],
          "name": "stdout"
        }
      ]
    }
  ]
}